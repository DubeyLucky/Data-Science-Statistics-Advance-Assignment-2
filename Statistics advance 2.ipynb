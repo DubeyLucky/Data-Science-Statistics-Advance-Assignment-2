{
 "cells": [
  {
   "cell_type": "markdown",
   "id": "f7438777",
   "metadata": {},
   "source": [
    "Q1: What are the Probability Mass Function (PMF) and Probability Density Function (PDF)? Explain with\n",
    "an example."
   ]
  },
  {
   "cell_type": "markdown",
   "id": "2afc7932",
   "metadata": {},
   "source": [
    "Probability mass function denotes the probability that a discrete random variable will take on a particular value. Probability density function gives the probability that a continuous random variable will lie between a certain specified interval. It is used for discrete random variables."
   ]
  },
  {
   "cell_type": "markdown",
   "id": "c0b0e7fc",
   "metadata": {},
   "source": [
    "Q2: What is Cumulative Density Function (CDF)? Explain with an example. Why CDF is used?"
   ]
  },
  {
   "cell_type": "markdown",
   "id": "cbd2629c",
   "metadata": {},
   "source": [
    "The cumulative distribution function (cdf) gives the probability that the random variable X is less than or equal to x and is usually denoted F(x)\n",
    "\n",
    "The cumulative distribution function, CDF, is a function whose output is the probability that X is less than or equal to the input. Denoted always by the capital letter F, its mathematical notation is written as F ( x 0 ) = P ( X ≤ x 0 ) . So, if the input is 3, F ( 3 ) = P ( X ≤ 3 ) "
   ]
  },
  {
   "cell_type": "markdown",
   "id": "ae65dd8e",
   "metadata": {},
   "source": [
    "Q9: What is Central Limit Theorem? State the significance of the Central Limit Theorem."
   ]
  },
  {
   "cell_type": "markdown",
   "id": "62c3e4ba",
   "metadata": {},
   "source": [
    "The central limit theorem relies on the concept of a sampling distribution, which is the probability distribution of a statistic for a large number of samples taken from a population.\n",
    "\n",
    "Imagining an experiment may help you to understand sampling distributions:\n",
    "\n",
    "Suppose that you draw a random sample from a population and calculate a statistic for the sample, such as the mean.\n",
    "Now you draw another random sample of the same size, and again calculate the mean.\n",
    "You repeat this process many times, and end up with a large number of means, one for each sample.\n",
    "\n",
    "The distribution of the sample means is an example of a sampling distribution.\n",
    "\n",
    "The central limit theorem says that the sampling distribution of the mean will always be normally distributed, as long as the sample size is large enough. Regardless of whether the population has a normal, Poisson, binomial, or any other distribution, the sampling distribution of the mean will be normal.\n",
    "\n",
    "\n",
    "Significance of Central Limit Theorem\n",
    "\n",
    "The CLT has several applications. Look at the places where you can use it.\n",
    "\n",
    "Political/election polling is a great example of how you can use CLT. These polls are used to estimate the number of people who support a specific candidate. You may have seen these results with confidence intervals on news channels. The CLT aids in this calculation.\n",
    "You use the CLT in various census fields to calculate various population details, such as family income, electricity consumption, individual salaries, and so on.\n"
   ]
  },
  {
   "cell_type": "markdown",
   "id": "4fab6148",
   "metadata": {},
   "source": [
    "Q10: State the assumptions of the Central Limit Theorem."
   ]
  },
  {
   "cell_type": "markdown",
   "id": "f8594aa2",
   "metadata": {},
   "source": [
    "The data must adhere to the randomization rule. It needs to be sampled at random.\n",
    "The samples should be unrelated to one another. One sample should not impact the others.\n",
    "When taking samples without replacement, the sample size should not exceed 10% of the population.\n"
   ]
  },
  {
   "cell_type": "markdown",
   "id": "867a1412",
   "metadata": {},
   "source": [
    "Q8: What is the z score? State the importance of the z score."
   ]
  },
  {
   "cell_type": "markdown",
   "id": "0fbbc942",
   "metadata": {},
   "source": [
    "Z-score is a statistical measurement that describes a value's relationship to the mean of a group of values. Z-score is measured in terms of standard deviations from the mean. If a Z-score is 0, it indicates that the data point's score is identical to the mean score. A Z-score of 1.0 would indicate a value that is one standard deviation from the mean. Z-scores may be positive or negative, with a positive value indicating the score is above the mean and a negative score indicating it is below the mean. "
   ]
  },
  {
   "cell_type": "markdown",
   "id": "0fea2607",
   "metadata": {},
   "source": [
    "Q7: Explain uniform Distribution with an example."
   ]
  },
  {
   "cell_type": "markdown",
   "id": "17ea6621",
   "metadata": {},
   "source": [
    "uniform distribution is a term used to describe a form of probability distribution where every possible outcome has an equal likelihood of happening. The probability is constant since each variable has equal chances of being the outcome.\n",
    "\n",
    "For example, if you stand on a street corner and start to randomly hand a RS 100 bill to any lucky person who walks by, then every passerby would have an equal chance of being handed the money. The percentage of the probability is 1 divided by the total number of outcomes (number of passersby). However, if you favored short people or women, they would have a higher chance of being given the RS 100 bill than the other passersby. It would not be described as uniform probability.\n",
    "\n",
    "A deck of cards also has a uniform distribution. It is because an individual has an equal chance of drawing a spade, a heart, a club, or a diamond. Another example of a uniform distribution is when a coin is tossed. The likelihood of getting a tail or head is the same. The graph of a uniform distribution is usually flat, whereby the sides and top are parallel to the x- and y-axes."
   ]
  },
  {
   "cell_type": "markdown",
   "id": "05a13dad",
   "metadata": {},
   "source": [
    "Q5: What is Bernaulli Distribution? Give an Example. What is the difference between Bernoulli\n",
    "Distribution and Binomial Distribution?"
   ]
  },
  {
   "cell_type": "markdown",
   "id": "ddeb4b31",
   "metadata": {},
   "source": [
    "Bernoulli distribution is a discrete distribution in which the random variable has only two possible outcomes and a single trial known as a Bernoulli.\n",
    "\n",
    "Every time you flip a coin, there are only two possible outcomes. It either lands on heads or it lands on tails, and there's a 50% chance of either outcome. A coin flip is an example of a Bernoulli trial, which is any random experiment in which there are exactly two possible outcomes.\n",
    "\n",
    "\n",
    "Bernoulli deals with the outcome of the single trial of the event, whereas Binomial deals with the outcome of the multiple trials of the single event.Bernoulli is used when the outcome of an event is required for only one time, whereas the Binomial is used when the outcome of an event is required multiple times.\n"
   ]
  },
  {
   "cell_type": "markdown",
   "id": "8c407b21",
   "metadata": {},
   "source": [
    "Q4: Explain the importance of Normal Distribution. Give a few real-life examples of Normal\n",
    "Distribution."
   ]
  },
  {
   "cell_type": "markdown",
   "id": "ac6bfab6",
   "metadata": {},
   "source": [
    "The Normal Distribution, also known as the Gaussian Distribution, is one of the most fundamental concepts in statistics and probability theory. Its importance lies in its widespread applicability across various fields due to its unique properties.\n",
    "\n",
    "1. **Central Limit Theorem**: The Normal Distribution plays a crucial role in the Central Limit Theorem, which states that the distribution of the sum (or average) of a large number of independent, identically distributed random variables approaches a normal distribution, regardless of the original distribution of the variables. This theorem is fundamental in statistical inference, as it allows us to make conclusions about populations based on samples.\n",
    "\n",
    "2. **Statistical Inference**: In many statistical methods, such as hypothesis testing and confidence interval estimation, assumptions about the distribution of data are made. The Normal Distribution is often assumed due to its mathematical tractability and because many real-world phenomena tend to approximate it.\n",
    "\n",
    "3. **Modeling Natural Phenomena**: Numerous natural phenomena follow a normal distribution. For instance:\n",
    "   - Human characteristics like height, weight, and intelligence tend to follow a normal distribution in large populations.\n",
    "   - Measurement errors in instruments often approximate a normal distribution.\n",
    "   - Random noise in electronic circuits and communication systems often conforms to a normal distribution.\n",
    "\n",
    "4. **Financial Applications**: In finance, the Normal Distribution is commonly used to model asset returns. While market returns are not perfectly normally distributed, many financial models, such as the Black-Scholes option pricing model, assume normally distributed returns for simplicity.\n",
    "\n",
    "5. **Quality Control**: In manufacturing and quality control processes, the Normal Distribution is used to analyze variations in product characteristics. For example, the distribution of product weights or lengths can often be approximated by a normal distribution, allowing manufacturers to set quality control limits and make decisions about product acceptance.\n",
    "\n",
    "6. **Biological Sciences**: Various biological measurements, such as blood pressure, enzyme activity, and birth weights, often exhibit a normal distribution in populations.\n",
    "\n",
    "In essence, the Normal Distribution serves as a foundational concept in statistics and provides a convenient framework for understanding and modeling a wide range of phenomena in fields ranging from natural sciences to social sciences to finance. Its ubiquity makes it a powerful tool for analysis and inference in many practical scenarios."
   ]
  },
  {
   "cell_type": "markdown",
   "id": "2f0bd7ca",
   "metadata": {},
   "source": [
    "Q3: What are some examples of situations where the normal distribution might be used as a model?\n",
    "Explain how the parameters of the normal distribution relate to the shape of the distribution."
   ]
  },
  {
   "cell_type": "markdown",
   "id": "46bcff45",
   "metadata": {},
   "source": [
    "1. **Height of Individuals**: In a large population, heights tend to follow a normal distribution, with most people clustered around the average height and fewer people at the extreme ends of the height spectrum.\n",
    "\n",
    "2. **Exam Scores**: When many students take an exam, their scores often approximate a normal distribution, assuming the exam is well-designed and covers a broad range of difficulty levels.\n",
    "\n",
    "3. **Measurement Errors**: Errors in measurement instruments, such as rulers, scales, or thermometers, can often be modeled using a normal distribution. These errors may arise due to factors like precision limitations or environmental conditions.\n",
    "\n",
    "4. **Blood Pressure**: Blood pressure readings in a population often exhibit a bell-shaped curve when plotted, with most individuals clustering around the average blood pressure.\n",
    "\n",
    "5. **IQ Scores**: Intelligence quotient (IQ) scores across a large population tend to be normally distributed, with the majority of people falling within the average range and fewer individuals at the extreme ends of the intelligence spectrum.\n",
    "\n",
    "Regarding the parameters of the normal distribution and their relationship to the shape of the distribution:\n",
    "\n",
    "1. **Mean (μ)**: The mean of a normal distribution determines the center or the average value around which the data is symmetrically distributed. It is the point of maximum probability density. Shifting the mean to the left or right changes the location of the peak of the curve without altering its shape.\n",
    "\n",
    "2. **Standard Deviation (σ)**: The standard deviation of a normal distribution measures the spread or dispersion of the data points around the mean. A smaller standard deviation indicates that the data points are closely clustered around the mean, resulting in a narrow and tall bell-shaped curve. Conversely, a larger standard deviation indicates that the data points are more spread out from the mean, resulting in a wider and shorter bell-shaped curve.\n",
    "\n",
    "Together, the mean and standard deviation uniquely determine the shape, location, and spread of the normal distribution. Adjusting these parameters can transform the distribution to better fit observed data or to represent different scenarios in real-life applications."
   ]
  },
  {
   "cell_type": "code",
   "execution_count": null,
   "id": "23a84b8d",
   "metadata": {},
   "outputs": [],
   "source": []
  }
 ],
 "metadata": {
  "kernelspec": {
   "display_name": "Python 3 (ipykernel)",
   "language": "python",
   "name": "python3"
  },
  "language_info": {
   "codemirror_mode": {
    "name": "ipython",
    "version": 3
   },
   "file_extension": ".py",
   "mimetype": "text/x-python",
   "name": "python",
   "nbconvert_exporter": "python",
   "pygments_lexer": "ipython3",
   "version": "3.10.9"
  }
 },
 "nbformat": 4,
 "nbformat_minor": 5
}
